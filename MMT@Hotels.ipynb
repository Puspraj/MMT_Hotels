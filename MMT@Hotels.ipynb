{
 "cells": [
  {
   "cell_type": "code",
   "execution_count": 17,
   "metadata": {},
   "outputs": [
    {
     "name": "stdout",
     "output_type": "stream",
     "text": [
      "Requirement already satisfied: selenium in c:\\users\\hp\\anaconda3\\lib\\site-packages (3.141.0)\n",
      "Requirement already satisfied: urllib3 in c:\\users\\hp\\anaconda3\\lib\\site-packages (from selenium) (1.24.2)\n"
     ]
    }
   ],
   "source": [
    "!pip install selenium"
   ]
  },
  {
   "cell_type": "code",
   "execution_count": 18,
   "metadata": {},
   "outputs": [],
   "source": [
    "from selenium import webdriver\n",
    "from bs4 import BeautifulSoup\n",
    "import requests"
   ]
  },
  {
   "cell_type": "code",
   "execution_count": 19,
   "metadata": {},
   "outputs": [],
   "source": [
    "driver=webdriver.Chrome(executable_path='chromedriver.exe')"
   ]
  },
  {
   "cell_type": "code",
   "execution_count": 20,
   "metadata": {},
   "outputs": [],
   "source": [
    "URL=driver.get('https://www.makemytrip.com/hotels/hotel-listing/?checkin=12102020&city=CTBLR&checkout=12112020&roomStayQualifier=1e0e&locusId=CTBLR&country=IN&locusType=city&searchText=Bengaluru&visitorId=b0d184a0-86ff-4196-b39d-002d100f97e6')"
   ]
  },
  {
   "cell_type": "code",
   "execution_count": 21,
   "metadata": {},
   "outputs": [],
   "source": [
    "hotelName=driver.find_elements_by_xpath(\"//p[@class='latoBlack font22 blackText appendBottom12']\")\n",
    "Rating_Type=driver.find_elements_by_xpath(\"//span[@class='ratingText latoRegular font11']\")\n",
    "prices=driver.find_elements_by_xpath(\"//p[@class='latoBlack font26 blackText appendBottom5']\")\n",
    "friendlyType=driver.find_elements_by_xpath(\"//ul[@class='tags font11 latoBold appendBottom5 darkText']\")\n",
    "facility=driver.find_elements_by_xpath(\"//ul[@class='amenList darkText']\")\n",
    "hotelLocation_Surroundings=driver.find_elements_by_xpath(\"//p[@itemprop='address']\")\n",
    "numberOfRating=driver.find_elements_by_xpath(\"//p[@class='font11 capText darkText']\")\n",
    "#mmtAssured=driver.find_elements_by_xpath(\"//div[@class='makeFlex top appendBottom10']\")"
   ]
  },
  {
   "cell_type": "code",
   "execution_count": 22,
   "metadata": {},
   "outputs": [
    {
     "name": "stdout",
     "output_type": "stream",
     "text": [
      "10 10 10 10 10 10 10\n"
     ]
    }
   ],
   "source": [
    "print(len(hotelName),len(Rating_Type),len(prices),len(friendlyType),len(facility),len(hotelLocation_Surroundings),len(numberOfRating))"
   ]
  },
  {
   "cell_type": "code",
   "execution_count": 23,
   "metadata": {},
   "outputs": [
    {
     "data": {
      "text/plain": [
       "{'hotelName': [],\n",
       " 'Rating_Type': [],\n",
       " 'prices': [],\n",
       " 'friendlyType': [],\n",
       " 'facility': [],\n",
       " 'hotelLocation_Surroundings': [],\n",
       " 'numberOfRating': []}"
      ]
     },
     "execution_count": 23,
     "metadata": {},
     "output_type": "execute_result"
    }
   ],
   "source": [
    "hotel_data={}\n",
    "hotel_data['hotelName']=[]\n",
    "hotel_data['Rating_Type']=[]\n",
    "hotel_data['prices']=[]\n",
    "hotel_data['friendlyType']=[]\n",
    "hotel_data['facility']=[]\n",
    "hotel_data['hotelLocation_Surroundings']=[]\n",
    "hotel_data['numberOfRating']=[]\n",
    "hotel_data"
   ]
  },
  {
   "cell_type": "code",
   "execution_count": 24,
   "metadata": {},
   "outputs": [],
   "source": [
    "for name in hotelName:\n",
    "    hotel_data['hotelName'].append(name.text)"
   ]
  },
  {
   "cell_type": "code",
   "execution_count": 25,
   "metadata": {},
   "outputs": [],
   "source": [
    "for rate in Rating_Type:\n",
    "    hotel_data['Rating_Type'].append(rate.text)"
   ]
  },
  {
   "cell_type": "code",
   "execution_count": 26,
   "metadata": {},
   "outputs": [],
   "source": [
    "for pernight in prices:\n",
    "    hotel_data['prices'].append(pernight.text)"
   ]
  },
  {
   "cell_type": "code",
   "execution_count": 27,
   "metadata": {},
   "outputs": [],
   "source": [
    "for ftype in friendlyType:\n",
    "    hotel_data['friendlyType'].append(ftype.text)"
   ]
  },
  {
   "cell_type": "code",
   "execution_count": 28,
   "metadata": {},
   "outputs": [],
   "source": [
    "for Facility in facility:\n",
    "    hotel_data['facility'].append(Facility.text)"
   ]
  },
  {
   "cell_type": "code",
   "execution_count": 29,
   "metadata": {},
   "outputs": [],
   "source": [
    "for hotelloc in hotelLocation_Surroundings:\n",
    "    hotel_data['hotelLocation_Surroundings'].append(hotelloc.text)"
   ]
  },
  {
   "cell_type": "code",
   "execution_count": 30,
   "metadata": {},
   "outputs": [],
   "source": [
    "for numrate in numberOfRating:\n",
    "    hotel_data['numberOfRating'].append(numrate.text)"
   ]
  },
  {
   "cell_type": "code",
   "execution_count": 31,
   "metadata": {},
   "outputs": [],
   "source": [
    "import pandas as pd\n",
    "\n",
    "df=pd.DataFrame(hotel_data)\n",
    "df.to_csv(\"Benglore@Hotels.csv\",mode=\"a\",encoding=\"utf-8-sig\")"
   ]
  },
  {
   "cell_type": "code",
   "execution_count": null,
   "metadata": {},
   "outputs": [],
   "source": []
  }
 ],
 "metadata": {
  "kernelspec": {
   "display_name": "Python 3",
   "language": "python",
   "name": "python3"
  },
  "language_info": {
   "codemirror_mode": {
    "name": "ipython",
    "version": 3
   },
   "file_extension": ".py",
   "mimetype": "text/x-python",
   "name": "python",
   "nbconvert_exporter": "python",
   "pygments_lexer": "ipython3",
   "version": "3.7.4"
  }
 },
 "nbformat": 4,
 "nbformat_minor": 2
}
